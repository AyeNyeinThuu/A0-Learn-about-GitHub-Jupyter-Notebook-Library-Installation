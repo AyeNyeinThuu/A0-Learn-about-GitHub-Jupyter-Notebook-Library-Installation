{
  "cells": [
    {
      "cell_type": "code",
      "execution_count": null,
      "id": "e12345",
      "metadata": {},
      "outputs": [],
      "source": [
        "import numpy as np",
        "arr = np.array([1, 2, 3, 4])",
        "print(arr)"
      ]
    }
  ],
  "metadata": {},
  "nbformat": 4,
  "nbformat_minor": 5
}

